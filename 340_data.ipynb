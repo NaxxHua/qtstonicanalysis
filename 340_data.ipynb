{
 "cells": [
  {
   "cell_type": "code",
   "execution_count": 1,
   "metadata": {},
   "outputs": [],
   "source": [
    "import pandas as pd\n",
    "import collections\n",
    "import glob\n",
    "import numpy as np"
   ]
  },
  {
   "cell_type": "code",
   "execution_count": 2,
   "metadata": {},
   "outputs": [],
   "source": [
    "path = r'C:\\Users\\kando\\Desktop\\qts' \n",
    "all_files = glob.glob(path + \"/*.json\")\n",
    "\n",
    "li = []\n",
    "\n",
    "for filename in all_files:\n",
    "    df = pd.read_json(filename, encoding=\"utf-8\")\n",
    "    li.append(df)\n",
    "\n",
    "df = pd.concat(li, ignore_index=True)"
   ]
  },
  {
   "cell_type": "code",
   "execution_count": 3,
   "metadata": {},
   "outputs": [
    {
     "data": {
      "text/plain": [
       "list"
      ]
     },
     "execution_count": 3,
     "metadata": {},
     "output_type": "execute_result"
    }
   ],
   "source": [
    "type(df.paragraphs[0])"
   ]
  },
  {
   "cell_type": "code",
   "execution_count": 4,
   "metadata": {},
   "outputs": [],
   "source": [
    "# During merging the data there is some poems that dont have paragraphs\n",
    "# So we remove them here\n",
    "df = df[df['paragraphs'].str.len()>0]"
   ]
  },
  {
   "cell_type": "code",
   "execution_count": 5,
   "metadata": {},
   "outputs": [],
   "source": [
    "# you can see those by using this line\n",
    "#df.loc[df['paragraphs'] == 0 ]"
   ]
  },
  {
   "cell_type": "code",
   "execution_count": 6,
   "metadata": {
    "scrolled": true
   },
   "outputs": [
    {
     "data": {
      "text/html": [
       "<div>\n",
       "<style scoped>\n",
       "    .dataframe tbody tr th:only-of-type {\n",
       "        vertical-align: middle;\n",
       "    }\n",
       "\n",
       "    .dataframe tbody tr th {\n",
       "        vertical-align: top;\n",
       "    }\n",
       "\n",
       "    .dataframe thead th {\n",
       "        text-align: right;\n",
       "    }\n",
       "</style>\n",
       "<table border=\"1\" class=\"dataframe\">\n",
       "  <thead>\n",
       "    <tr style=\"text-align: right;\">\n",
       "      <th></th>\n",
       "      <th>author</th>\n",
       "      <th>paragraphs</th>\n",
       "      <th>strains</th>\n",
       "      <th>title</th>\n",
       "    </tr>\n",
       "  </thead>\n",
       "  <tbody>\n",
       "    <tr>\n",
       "      <th>0</th>\n",
       "      <td>太宗皇帝</td>\n",
       "      <td>[秦川雄帝宅，函谷壯皇居。, 綺殿千尋起，離宮百雉餘。, 連甍遙接漢，飛觀迥凌虛。, 雲日隱...</td>\n",
       "      <td>[平平平仄仄，平仄仄平平。, 仄仄平平仄，平平仄仄平。, 平平平仄仄，平仄仄平平。, 平仄仄...</td>\n",
       "      <td>帝京篇十首 一</td>\n",
       "    </tr>\n",
       "    <tr>\n",
       "      <th>1</th>\n",
       "      <td>太宗皇帝</td>\n",
       "      <td>[巖廊罷機務，崇文聊駐輦。, 玉匣啓龍圖，金繩披鳳篆。, 韋編斷仍續，縹帙舒還卷。, 對此乃...</td>\n",
       "      <td>[平平仄平仄，平平平仄仄。, 仄仄仄平平，平平平仄仄。, 平平仄平仄，仄仄平平仄。, 仄仄仄...</td>\n",
       "      <td>帝京篇十首 二</td>\n",
       "    </tr>\n",
       "    <tr>\n",
       "      <th>2</th>\n",
       "      <td>太宗皇帝</td>\n",
       "      <td>[移步出詞林，停輿欣武宴。, 琱弓寫明月，駿馬疑流電。, 驚雁落虛弦，啼猿悲急箭。, 閱賞誠...</td>\n",
       "      <td>[平仄仄平平，平平平仄仄。, 平平仄平仄，仄仄平平仄。, 平仄仄平平，平平平仄仄。, 仄仄平...</td>\n",
       "      <td>帝京篇十首 三</td>\n",
       "    </tr>\n",
       "    <tr>\n",
       "      <th>3</th>\n",
       "      <td>太宗皇帝</td>\n",
       "      <td>[鳴笳臨樂館，眺聽歡芳節。, 急管韻朱絃，清歌凝白雪。, 彩鳳肅來儀，玄鶴紛成列。, 去茲鄭...</td>\n",
       "      <td>[平平平仄仄，仄仄平平仄。, 仄仄仄平平，平平平仄仄。, 仄仄仄平平，平仄平平仄。, 仄平仄...</td>\n",
       "      <td>帝京篇十首 四</td>\n",
       "    </tr>\n",
       "    <tr>\n",
       "      <th>4</th>\n",
       "      <td>太宗皇帝</td>\n",
       "      <td>[芳辰追逸趣，禁苑信多奇。, 橋形通漢上，峰勢接雲危。, 煙霞交隱映，花鳥自參差。, 何如肆...</td>\n",
       "      <td>[平平平仄仄，○仄仄平平。, 平平平仄仄，平仄仄平平。, 平平平仄仄，平仄仄○平。, 平○仄...</td>\n",
       "      <td>帝京篇十首 五</td>\n",
       "    </tr>\n",
       "  </tbody>\n",
       "</table>\n",
       "</div>"
      ],
      "text/plain": [
       "  author                                         paragraphs  \\\n",
       "0   太宗皇帝  [秦川雄帝宅，函谷壯皇居。, 綺殿千尋起，離宮百雉餘。, 連甍遙接漢，飛觀迥凌虛。, 雲日隱...   \n",
       "1   太宗皇帝  [巖廊罷機務，崇文聊駐輦。, 玉匣啓龍圖，金繩披鳳篆。, 韋編斷仍續，縹帙舒還卷。, 對此乃...   \n",
       "2   太宗皇帝  [移步出詞林，停輿欣武宴。, 琱弓寫明月，駿馬疑流電。, 驚雁落虛弦，啼猿悲急箭。, 閱賞誠...   \n",
       "3   太宗皇帝  [鳴笳臨樂館，眺聽歡芳節。, 急管韻朱絃，清歌凝白雪。, 彩鳳肅來儀，玄鶴紛成列。, 去茲鄭...   \n",
       "4   太宗皇帝  [芳辰追逸趣，禁苑信多奇。, 橋形通漢上，峰勢接雲危。, 煙霞交隱映，花鳥自參差。, 何如肆...   \n",
       "\n",
       "                                             strains    title  \n",
       "0  [平平平仄仄，平仄仄平平。, 仄仄平平仄，平平仄仄平。, 平平平仄仄，平仄仄平平。, 平仄仄...  帝京篇十首 一  \n",
       "1  [平平仄平仄，平平平仄仄。, 仄仄仄平平，平平平仄仄。, 平平仄平仄，仄仄平平仄。, 仄仄仄...  帝京篇十首 二  \n",
       "2  [平仄仄平平，平平平仄仄。, 平平仄平仄，仄仄平平仄。, 平仄仄平平，平平平仄仄。, 仄仄平...  帝京篇十首 三  \n",
       "3  [平平平仄仄，仄仄平平仄。, 仄仄仄平平，平平平仄仄。, 仄仄仄平平，平仄平平仄。, 仄平仄...  帝京篇十首 四  \n",
       "4  [平平平仄仄，○仄仄平平。, 平平平仄仄，平仄仄平平。, 平平平仄仄，平仄仄○平。, 平○仄...  帝京篇十首 五  "
      ]
     },
     "execution_count": 6,
     "metadata": {},
     "output_type": "execute_result"
    }
   ],
   "source": [
    "df.head()"
   ]
  },
  {
   "cell_type": "code",
   "execution_count": 9,
   "metadata": {},
   "outputs": [],
   "source": [
    "# set initial value to NA\n",
    "df['typeC'] = 'NA'\n",
    "df['countC'] = 'NA'"
   ]
  },
  {
   "cell_type": "code",
   "execution_count": 10,
   "metadata": {},
   "outputs": [],
   "source": [
    "# 2 sentence poems is jueju\n",
    "# 4 sentence poems is lvshi\n",
    "for i in range(len(df)):\n",
    "    if len(df.paragraphs[i]) == 2:\n",
    "        df.typeC[i] = 'jueju'\n",
    "    elif len(df.paragraphs[i]) == 4:\n",
    "        df.typeC[i] = 'lvshi'"
   ]
  },
  {
   "cell_type": "code",
   "execution_count": 11,
   "metadata": {},
   "outputs": [],
   "source": [
    "# 12 character(include ,。) in a sentence is wuyan\n",
    "# 16 character(include ,。) in a sentence is qiyan\n",
    "\n",
    "for i in range(len(df)):\n",
    "    if (len(df.paragraphs[i][0]) == 12) & (df.typeC[i] == \"jueju\"):\n",
    "        df.countC[i] = \"wuyan\"\n",
    "    elif (len(df.paragraphs[i][0]) == 12) & (df.typeC[i] == \"lvshi\"):\n",
    "        df.countC[i] = \"wuyan\"\n",
    "    elif (len(df.paragraphs[i][0]) == 16) & (df.typeC[i] == \"jueju\"):\n",
    "        df.countC[i] = \"qiyan\"\n",
    "    elif (len(df.paragraphs[i][0]) == 16) & (df.typeC[i] == \"lvshi\"):\n",
    "        df.countC[i] = \"qiyan\""
   ]
  },
  {
   "cell_type": "code",
   "execution_count": 12,
   "metadata": {},
   "outputs": [
    {
     "data": {
      "text/html": [
       "<div>\n",
       "<style scoped>\n",
       "    .dataframe tbody tr th:only-of-type {\n",
       "        vertical-align: middle;\n",
       "    }\n",
       "\n",
       "    .dataframe tbody tr th {\n",
       "        vertical-align: top;\n",
       "    }\n",
       "\n",
       "    .dataframe thead th {\n",
       "        text-align: right;\n",
       "    }\n",
       "</style>\n",
       "<table border=\"1\" class=\"dataframe\">\n",
       "  <thead>\n",
       "    <tr style=\"text-align: right;\">\n",
       "      <th></th>\n",
       "      <th>author</th>\n",
       "      <th>paragraphs</th>\n",
       "      <th>strains</th>\n",
       "      <th>title</th>\n",
       "      <th>typeC</th>\n",
       "      <th>countC</th>\n",
       "    </tr>\n",
       "  </thead>\n",
       "  <tbody>\n",
       "    <tr>\n",
       "      <th>0</th>\n",
       "      <td>太宗皇帝</td>\n",
       "      <td>[秦川雄帝宅，函谷壯皇居。, 綺殿千尋起，離宮百雉餘。, 連甍遙接漢，飛觀迥凌虛。, 雲日隱...</td>\n",
       "      <td>[平平平仄仄，平仄仄平平。, 仄仄平平仄，平平仄仄平。, 平平平仄仄，平仄仄平平。, 平仄仄...</td>\n",
       "      <td>帝京篇十首 一</td>\n",
       "      <td>lvshi</td>\n",
       "      <td>wuyan</td>\n",
       "    </tr>\n",
       "    <tr>\n",
       "      <th>1</th>\n",
       "      <td>太宗皇帝</td>\n",
       "      <td>[巖廊罷機務，崇文聊駐輦。, 玉匣啓龍圖，金繩披鳳篆。, 韋編斷仍續，縹帙舒還卷。, 對此乃...</td>\n",
       "      <td>[平平仄平仄，平平平仄仄。, 仄仄仄平平，平平平仄仄。, 平平仄平仄，仄仄平平仄。, 仄仄仄...</td>\n",
       "      <td>帝京篇十首 二</td>\n",
       "      <td>lvshi</td>\n",
       "      <td>wuyan</td>\n",
       "    </tr>\n",
       "    <tr>\n",
       "      <th>2</th>\n",
       "      <td>太宗皇帝</td>\n",
       "      <td>[移步出詞林，停輿欣武宴。, 琱弓寫明月，駿馬疑流電。, 驚雁落虛弦，啼猿悲急箭。, 閱賞誠...</td>\n",
       "      <td>[平仄仄平平，平平平仄仄。, 平平仄平仄，仄仄平平仄。, 平仄仄平平，平平平仄仄。, 仄仄平...</td>\n",
       "      <td>帝京篇十首 三</td>\n",
       "      <td>lvshi</td>\n",
       "      <td>wuyan</td>\n",
       "    </tr>\n",
       "    <tr>\n",
       "      <th>3</th>\n",
       "      <td>太宗皇帝</td>\n",
       "      <td>[鳴笳臨樂館，眺聽歡芳節。, 急管韻朱絃，清歌凝白雪。, 彩鳳肅來儀，玄鶴紛成列。, 去茲鄭...</td>\n",
       "      <td>[平平平仄仄，仄仄平平仄。, 仄仄仄平平，平平平仄仄。, 仄仄仄平平，平仄平平仄。, 仄平仄...</td>\n",
       "      <td>帝京篇十首 四</td>\n",
       "      <td>lvshi</td>\n",
       "      <td>wuyan</td>\n",
       "    </tr>\n",
       "    <tr>\n",
       "      <th>4</th>\n",
       "      <td>太宗皇帝</td>\n",
       "      <td>[芳辰追逸趣，禁苑信多奇。, 橋形通漢上，峰勢接雲危。, 煙霞交隱映，花鳥自參差。, 何如肆...</td>\n",
       "      <td>[平平平仄仄，○仄仄平平。, 平平平仄仄，平仄仄平平。, 平平平仄仄，平仄仄○平。, 平○仄...</td>\n",
       "      <td>帝京篇十首 五</td>\n",
       "      <td>lvshi</td>\n",
       "      <td>wuyan</td>\n",
       "    </tr>\n",
       "    <tr>\n",
       "      <th>5</th>\n",
       "      <td>太宗皇帝</td>\n",
       "      <td>[飛蓋去芳園，蘭橈遊翠渚。, 萍間日彩亂，荷處香風舉。, 桂楫滿中川，弦歌振長嶼。, 豈必汾...</td>\n",
       "      <td>[平仄仄平平，平平平仄仄。, 平平仄仄仄，仄仄平平仄。, 仄仄仄平平，平平仄仄仄。, 仄仄平...</td>\n",
       "      <td>帝京篇十首 六</td>\n",
       "      <td>lvshi</td>\n",
       "      <td>wuyan</td>\n",
       "    </tr>\n",
       "    <tr>\n",
       "      <th>6</th>\n",
       "      <td>太宗皇帝</td>\n",
       "      <td>[落日雙闕昏，回輿九重暮。, 長煙散初碧，皎月澄輕素。, 搴幌翫琴書，開軒引雲霧。, 斜漢耿...</td>\n",
       "      <td>[仄仄平仄平，○平仄○仄。, ○平仄平仄，仄仄平○仄。, ○仄仄平平，平平仄平仄。, 平仄仄...</td>\n",
       "      <td>帝京篇十首 七</td>\n",
       "      <td>lvshi</td>\n",
       "      <td>wuyan</td>\n",
       "    </tr>\n",
       "    <tr>\n",
       "      <th>7</th>\n",
       "      <td>太宗皇帝</td>\n",
       "      <td>[歡樂難再逢，芳辰良可惜。, 玉酒泛雲罍，蘭殽陳綺席。, 千鍾合堯禹，百獸諧金石。, 得志重...</td>\n",
       "      <td>[平仄○仄平，平平平仄仄。, 仄仄仄平平，平平平仄仄。, 平平仄平仄，仄仄平平仄。, 仄仄○...</td>\n",
       "      <td>帝京篇十首 八</td>\n",
       "      <td>lvshi</td>\n",
       "      <td>wuyan</td>\n",
       "    </tr>\n",
       "    <tr>\n",
       "      <th>8</th>\n",
       "      <td>太宗皇帝</td>\n",
       "      <td>[建章歡賞夕，二八盡妖妍。, 羅綺昭陽殿，芬芳玳瑁筵。, 珮移星正動，扇掩月初圓。, 無勞上...</td>\n",
       "      <td>[仄平平仄仄，仄仄仄平平。, 平仄平平仄，平平仄仄平。, 仄平平仄仄，仄仄仄平平。, 平仄仄...</td>\n",
       "      <td>帝京篇十首 九</td>\n",
       "      <td>lvshi</td>\n",
       "      <td>wuyan</td>\n",
       "    </tr>\n",
       "    <tr>\n",
       "      <th>9</th>\n",
       "      <td>太宗皇帝</td>\n",
       "      <td>[以茲遊觀極，悠然獨長想。, 披卷覽前蹤，撫躬尋既往。, 望古茅茨約，瞻今蘭殿廣。, 人道惡...</td>\n",
       "      <td>[仄平平○仄，平平仄○仄。, 平仄仄平平，仄平平仄仄。, 仄仄平平仄，平平平仄仄。, 平仄仄...</td>\n",
       "      <td>帝京篇十首 十</td>\n",
       "      <td>NA</td>\n",
       "      <td>NA</td>\n",
       "    </tr>\n",
       "  </tbody>\n",
       "</table>\n",
       "</div>"
      ],
      "text/plain": [
       "  author                                         paragraphs  \\\n",
       "0   太宗皇帝  [秦川雄帝宅，函谷壯皇居。, 綺殿千尋起，離宮百雉餘。, 連甍遙接漢，飛觀迥凌虛。, 雲日隱...   \n",
       "1   太宗皇帝  [巖廊罷機務，崇文聊駐輦。, 玉匣啓龍圖，金繩披鳳篆。, 韋編斷仍續，縹帙舒還卷。, 對此乃...   \n",
       "2   太宗皇帝  [移步出詞林，停輿欣武宴。, 琱弓寫明月，駿馬疑流電。, 驚雁落虛弦，啼猿悲急箭。, 閱賞誠...   \n",
       "3   太宗皇帝  [鳴笳臨樂館，眺聽歡芳節。, 急管韻朱絃，清歌凝白雪。, 彩鳳肅來儀，玄鶴紛成列。, 去茲鄭...   \n",
       "4   太宗皇帝  [芳辰追逸趣，禁苑信多奇。, 橋形通漢上，峰勢接雲危。, 煙霞交隱映，花鳥自參差。, 何如肆...   \n",
       "5   太宗皇帝  [飛蓋去芳園，蘭橈遊翠渚。, 萍間日彩亂，荷處香風舉。, 桂楫滿中川，弦歌振長嶼。, 豈必汾...   \n",
       "6   太宗皇帝  [落日雙闕昏，回輿九重暮。, 長煙散初碧，皎月澄輕素。, 搴幌翫琴書，開軒引雲霧。, 斜漢耿...   \n",
       "7   太宗皇帝  [歡樂難再逢，芳辰良可惜。, 玉酒泛雲罍，蘭殽陳綺席。, 千鍾合堯禹，百獸諧金石。, 得志重...   \n",
       "8   太宗皇帝  [建章歡賞夕，二八盡妖妍。, 羅綺昭陽殿，芬芳玳瑁筵。, 珮移星正動，扇掩月初圓。, 無勞上...   \n",
       "9   太宗皇帝  [以茲遊觀極，悠然獨長想。, 披卷覽前蹤，撫躬尋既往。, 望古茅茨約，瞻今蘭殿廣。, 人道惡...   \n",
       "\n",
       "                                             strains    title  typeC countC  \n",
       "0  [平平平仄仄，平仄仄平平。, 仄仄平平仄，平平仄仄平。, 平平平仄仄，平仄仄平平。, 平仄仄...  帝京篇十首 一  lvshi  wuyan  \n",
       "1  [平平仄平仄，平平平仄仄。, 仄仄仄平平，平平平仄仄。, 平平仄平仄，仄仄平平仄。, 仄仄仄...  帝京篇十首 二  lvshi  wuyan  \n",
       "2  [平仄仄平平，平平平仄仄。, 平平仄平仄，仄仄平平仄。, 平仄仄平平，平平平仄仄。, 仄仄平...  帝京篇十首 三  lvshi  wuyan  \n",
       "3  [平平平仄仄，仄仄平平仄。, 仄仄仄平平，平平平仄仄。, 仄仄仄平平，平仄平平仄。, 仄平仄...  帝京篇十首 四  lvshi  wuyan  \n",
       "4  [平平平仄仄，○仄仄平平。, 平平平仄仄，平仄仄平平。, 平平平仄仄，平仄仄○平。, 平○仄...  帝京篇十首 五  lvshi  wuyan  \n",
       "5  [平仄仄平平，平平平仄仄。, 平平仄仄仄，仄仄平平仄。, 仄仄仄平平，平平仄仄仄。, 仄仄平...  帝京篇十首 六  lvshi  wuyan  \n",
       "6  [仄仄平仄平，○平仄○仄。, ○平仄平仄，仄仄平○仄。, ○仄仄平平，平平仄平仄。, 平仄仄...  帝京篇十首 七  lvshi  wuyan  \n",
       "7  [平仄○仄平，平平平仄仄。, 仄仄仄平平，平平平仄仄。, 平平仄平仄，仄仄平平仄。, 仄仄○...  帝京篇十首 八  lvshi  wuyan  \n",
       "8  [仄平平仄仄，仄仄仄平平。, 平仄平平仄，平平仄仄平。, 仄平平仄仄，仄仄仄平平。, 平仄仄...  帝京篇十首 九  lvshi  wuyan  \n",
       "9  [仄平平○仄，平平仄○仄。, 平仄仄平平，仄平平仄仄。, 仄仄平平仄，平平平仄仄。, 平仄仄...  帝京篇十首 十     NA     NA  "
      ]
     },
     "execution_count": 12,
     "metadata": {},
     "output_type": "execute_result"
    }
   ],
   "source": [
    "df.head(10)"
   ]
  },
  {
   "cell_type": "code",
   "execution_count": 13,
   "metadata": {},
   "outputs": [],
   "source": [
    "#remove those poem not tagged\n",
    "lvshijueju = df[~df.typeC.isin(['NA'])]\n",
    "lvshijueju = df[~df.countC.isin(['NA'])]"
   ]
  },
  {
   "cell_type": "code",
   "execution_count": 14,
   "metadata": {},
   "outputs": [
    {
     "data": {
      "text/plain": [
       "38390"
      ]
     },
     "execution_count": 14,
     "metadata": {},
     "output_type": "execute_result"
    }
   ],
   "source": [
    "# number of lvshi jueju poems\n",
    "len(lvshijueju)"
   ]
  },
  {
   "cell_type": "code",
   "execution_count": 16,
   "metadata": {},
   "outputs": [
    {
     "data": {
      "text/html": [
       "<div>\n",
       "<style scoped>\n",
       "    .dataframe tbody tr th:only-of-type {\n",
       "        vertical-align: middle;\n",
       "    }\n",
       "\n",
       "    .dataframe tbody tr th {\n",
       "        vertical-align: top;\n",
       "    }\n",
       "\n",
       "    .dataframe thead th {\n",
       "        text-align: right;\n",
       "    }\n",
       "</style>\n",
       "<table border=\"1\" class=\"dataframe\">\n",
       "  <thead>\n",
       "    <tr style=\"text-align: right;\">\n",
       "      <th></th>\n",
       "      <th>author</th>\n",
       "      <th>paragraphs</th>\n",
       "      <th>strains</th>\n",
       "      <th>title</th>\n",
       "      <th>typeC</th>\n",
       "      <th>countC</th>\n",
       "    </tr>\n",
       "  </thead>\n",
       "  <tbody>\n",
       "    <tr>\n",
       "      <th>0</th>\n",
       "      <td>太宗皇帝</td>\n",
       "      <td>[秦川雄帝宅，函谷壯皇居。, 綺殿千尋起，離宮百雉餘。, 連甍遙接漢，飛觀迥凌虛。, 雲日隱...</td>\n",
       "      <td>[平平平仄仄，平仄仄平平。, 仄仄平平仄，平平仄仄平。, 平平平仄仄，平仄仄平平。, 平仄仄...</td>\n",
       "      <td>帝京篇十首 一</td>\n",
       "      <td>lvshi</td>\n",
       "      <td>wuyan</td>\n",
       "    </tr>\n",
       "    <tr>\n",
       "      <th>1</th>\n",
       "      <td>太宗皇帝</td>\n",
       "      <td>[巖廊罷機務，崇文聊駐輦。, 玉匣啓龍圖，金繩披鳳篆。, 韋編斷仍續，縹帙舒還卷。, 對此乃...</td>\n",
       "      <td>[平平仄平仄，平平平仄仄。, 仄仄仄平平，平平平仄仄。, 平平仄平仄，仄仄平平仄。, 仄仄仄...</td>\n",
       "      <td>帝京篇十首 二</td>\n",
       "      <td>lvshi</td>\n",
       "      <td>wuyan</td>\n",
       "    </tr>\n",
       "    <tr>\n",
       "      <th>2</th>\n",
       "      <td>太宗皇帝</td>\n",
       "      <td>[移步出詞林，停輿欣武宴。, 琱弓寫明月，駿馬疑流電。, 驚雁落虛弦，啼猿悲急箭。, 閱賞誠...</td>\n",
       "      <td>[平仄仄平平，平平平仄仄。, 平平仄平仄，仄仄平平仄。, 平仄仄平平，平平平仄仄。, 仄仄平...</td>\n",
       "      <td>帝京篇十首 三</td>\n",
       "      <td>lvshi</td>\n",
       "      <td>wuyan</td>\n",
       "    </tr>\n",
       "    <tr>\n",
       "      <th>3</th>\n",
       "      <td>太宗皇帝</td>\n",
       "      <td>[鳴笳臨樂館，眺聽歡芳節。, 急管韻朱絃，清歌凝白雪。, 彩鳳肅來儀，玄鶴紛成列。, 去茲鄭...</td>\n",
       "      <td>[平平平仄仄，仄仄平平仄。, 仄仄仄平平，平平平仄仄。, 仄仄仄平平，平仄平平仄。, 仄平仄...</td>\n",
       "      <td>帝京篇十首 四</td>\n",
       "      <td>lvshi</td>\n",
       "      <td>wuyan</td>\n",
       "    </tr>\n",
       "    <tr>\n",
       "      <th>4</th>\n",
       "      <td>太宗皇帝</td>\n",
       "      <td>[芳辰追逸趣，禁苑信多奇。, 橋形通漢上，峰勢接雲危。, 煙霞交隱映，花鳥自參差。, 何如肆...</td>\n",
       "      <td>[平平平仄仄，○仄仄平平。, 平平平仄仄，平仄仄平平。, 平平平仄仄，平仄仄○平。, 平○仄...</td>\n",
       "      <td>帝京篇十首 五</td>\n",
       "      <td>lvshi</td>\n",
       "      <td>wuyan</td>\n",
       "    </tr>\n",
       "    <tr>\n",
       "      <th>5</th>\n",
       "      <td>太宗皇帝</td>\n",
       "      <td>[飛蓋去芳園，蘭橈遊翠渚。, 萍間日彩亂，荷處香風舉。, 桂楫滿中川，弦歌振長嶼。, 豈必汾...</td>\n",
       "      <td>[平仄仄平平，平平平仄仄。, 平平仄仄仄，仄仄平平仄。, 仄仄仄平平，平平仄仄仄。, 仄仄平...</td>\n",
       "      <td>帝京篇十首 六</td>\n",
       "      <td>lvshi</td>\n",
       "      <td>wuyan</td>\n",
       "    </tr>\n",
       "    <tr>\n",
       "      <th>6</th>\n",
       "      <td>太宗皇帝</td>\n",
       "      <td>[落日雙闕昏，回輿九重暮。, 長煙散初碧，皎月澄輕素。, 搴幌翫琴書，開軒引雲霧。, 斜漢耿...</td>\n",
       "      <td>[仄仄平仄平，○平仄○仄。, ○平仄平仄，仄仄平○仄。, ○仄仄平平，平平仄平仄。, 平仄仄...</td>\n",
       "      <td>帝京篇十首 七</td>\n",
       "      <td>lvshi</td>\n",
       "      <td>wuyan</td>\n",
       "    </tr>\n",
       "    <tr>\n",
       "      <th>7</th>\n",
       "      <td>太宗皇帝</td>\n",
       "      <td>[歡樂難再逢，芳辰良可惜。, 玉酒泛雲罍，蘭殽陳綺席。, 千鍾合堯禹，百獸諧金石。, 得志重...</td>\n",
       "      <td>[平仄○仄平，平平平仄仄。, 仄仄仄平平，平平平仄仄。, 平平仄平仄，仄仄平平仄。, 仄仄○...</td>\n",
       "      <td>帝京篇十首 八</td>\n",
       "      <td>lvshi</td>\n",
       "      <td>wuyan</td>\n",
       "    </tr>\n",
       "    <tr>\n",
       "      <th>8</th>\n",
       "      <td>太宗皇帝</td>\n",
       "      <td>[建章歡賞夕，二八盡妖妍。, 羅綺昭陽殿，芬芳玳瑁筵。, 珮移星正動，扇掩月初圓。, 無勞上...</td>\n",
       "      <td>[仄平平仄仄，仄仄仄平平。, 平仄平平仄，平平仄仄平。, 仄平平仄仄，仄仄仄平平。, 平仄仄...</td>\n",
       "      <td>帝京篇十首 九</td>\n",
       "      <td>lvshi</td>\n",
       "      <td>wuyan</td>\n",
       "    </tr>\n",
       "    <tr>\n",
       "      <th>16</th>\n",
       "      <td>太宗皇帝</td>\n",
       "      <td>[新豐停翠輦，譙邑駐鳴笳。, 園荒一徑斷，苔古半階斜。, 前池消舊水，昔樹發今花。, 一朝辭...</td>\n",
       "      <td>[平平平仄仄，平仄仄平平。, 平平仄仄仄，平仄仄平平。, 平平平仄仄，仄仄仄平平。, 仄平平...</td>\n",
       "      <td>過舊宅二首 一</td>\n",
       "      <td>lvshi</td>\n",
       "      <td>wuyan</td>\n",
       "    </tr>\n",
       "  </tbody>\n",
       "</table>\n",
       "</div>"
      ],
      "text/plain": [
       "   author                                         paragraphs  \\\n",
       "0    太宗皇帝  [秦川雄帝宅，函谷壯皇居。, 綺殿千尋起，離宮百雉餘。, 連甍遙接漢，飛觀迥凌虛。, 雲日隱...   \n",
       "1    太宗皇帝  [巖廊罷機務，崇文聊駐輦。, 玉匣啓龍圖，金繩披鳳篆。, 韋編斷仍續，縹帙舒還卷。, 對此乃...   \n",
       "2    太宗皇帝  [移步出詞林，停輿欣武宴。, 琱弓寫明月，駿馬疑流電。, 驚雁落虛弦，啼猿悲急箭。, 閱賞誠...   \n",
       "3    太宗皇帝  [鳴笳臨樂館，眺聽歡芳節。, 急管韻朱絃，清歌凝白雪。, 彩鳳肅來儀，玄鶴紛成列。, 去茲鄭...   \n",
       "4    太宗皇帝  [芳辰追逸趣，禁苑信多奇。, 橋形通漢上，峰勢接雲危。, 煙霞交隱映，花鳥自參差。, 何如肆...   \n",
       "5    太宗皇帝  [飛蓋去芳園，蘭橈遊翠渚。, 萍間日彩亂，荷處香風舉。, 桂楫滿中川，弦歌振長嶼。, 豈必汾...   \n",
       "6    太宗皇帝  [落日雙闕昏，回輿九重暮。, 長煙散初碧，皎月澄輕素。, 搴幌翫琴書，開軒引雲霧。, 斜漢耿...   \n",
       "7    太宗皇帝  [歡樂難再逢，芳辰良可惜。, 玉酒泛雲罍，蘭殽陳綺席。, 千鍾合堯禹，百獸諧金石。, 得志重...   \n",
       "8    太宗皇帝  [建章歡賞夕，二八盡妖妍。, 羅綺昭陽殿，芬芳玳瑁筵。, 珮移星正動，扇掩月初圓。, 無勞上...   \n",
       "16   太宗皇帝  [新豐停翠輦，譙邑駐鳴笳。, 園荒一徑斷，苔古半階斜。, 前池消舊水，昔樹發今花。, 一朝辭...   \n",
       "\n",
       "                                              strains    title  typeC countC  \n",
       "0   [平平平仄仄，平仄仄平平。, 仄仄平平仄，平平仄仄平。, 平平平仄仄，平仄仄平平。, 平仄仄...  帝京篇十首 一  lvshi  wuyan  \n",
       "1   [平平仄平仄，平平平仄仄。, 仄仄仄平平，平平平仄仄。, 平平仄平仄，仄仄平平仄。, 仄仄仄...  帝京篇十首 二  lvshi  wuyan  \n",
       "2   [平仄仄平平，平平平仄仄。, 平平仄平仄，仄仄平平仄。, 平仄仄平平，平平平仄仄。, 仄仄平...  帝京篇十首 三  lvshi  wuyan  \n",
       "3   [平平平仄仄，仄仄平平仄。, 仄仄仄平平，平平平仄仄。, 仄仄仄平平，平仄平平仄。, 仄平仄...  帝京篇十首 四  lvshi  wuyan  \n",
       "4   [平平平仄仄，○仄仄平平。, 平平平仄仄，平仄仄平平。, 平平平仄仄，平仄仄○平。, 平○仄...  帝京篇十首 五  lvshi  wuyan  \n",
       "5   [平仄仄平平，平平平仄仄。, 平平仄仄仄，仄仄平平仄。, 仄仄仄平平，平平仄仄仄。, 仄仄平...  帝京篇十首 六  lvshi  wuyan  \n",
       "6   [仄仄平仄平，○平仄○仄。, ○平仄平仄，仄仄平○仄。, ○仄仄平平，平平仄平仄。, 平仄仄...  帝京篇十首 七  lvshi  wuyan  \n",
       "7   [平仄○仄平，平平平仄仄。, 仄仄仄平平，平平平仄仄。, 平平仄平仄，仄仄平平仄。, 仄仄○...  帝京篇十首 八  lvshi  wuyan  \n",
       "8   [仄平平仄仄，仄仄仄平平。, 平仄平平仄，平平仄仄平。, 仄平平仄仄，仄仄仄平平。, 平仄仄...  帝京篇十首 九  lvshi  wuyan  \n",
       "16  [平平平仄仄，平仄仄平平。, 平平仄仄仄，平仄仄平平。, 平平平仄仄，仄仄仄平平。, 仄平平...  過舊宅二首 一  lvshi  wuyan  "
      ]
     },
     "execution_count": 16,
     "metadata": {},
     "output_type": "execute_result"
    }
   ],
   "source": [
    "lvshijueju.head(10)"
   ]
  },
  {
   "cell_type": "code",
   "execution_count": 17,
   "metadata": {},
   "outputs": [],
   "source": [
    "lvshijueju.reset_index(drop=True,inplace=True)"
   ]
  },
  {
   "cell_type": "code",
   "execution_count": 19,
   "metadata": {},
   "outputs": [],
   "source": [
    "#lvshijueju.to_csv('lvshijueju.csv', encoding='utf-8',sep=',')"
   ]
  },
  {
   "cell_type": "code",
   "execution_count": 20,
   "metadata": {},
   "outputs": [],
   "source": [
    "# number of wuyan poems\n",
    "wuyan = lvshijueju[lvshijueju['countC'] =='wuyan']\n",
    "\n",
    "len(wuyan)"
   ]
  },
  {
   "cell_type": "code",
   "execution_count": 22,
   "metadata": {},
   "outputs": [],
   "source": [
    "# number of qiyan poems\n",
    "qiyan = lvshijueju[lvshijueju['countC'] =='qiyan']\n",
    "\n",
    "len(qiyan)"
   ]
  },
  {
   "cell_type": "code",
   "execution_count": 24,
   "metadata": {},
   "outputs": [],
   "source": [
    "# number of authors\n",
    "authors = lvshijueju.author.unique()\n",
    "\n",
    "len(authors)"
   ]
  },
  {
   "cell_type": "code",
   "execution_count": 26,
   "metadata": {},
   "outputs": [
    {
     "data": {
      "text/plain": [
       "numpy.ndarray"
      ]
     },
     "execution_count": 26,
     "metadata": {},
     "output_type": "execute_result"
    }
   ],
   "source": [
    "type(authors)"
   ]
  },
  {
   "cell_type": "code",
   "execution_count": 27,
   "metadata": {},
   "outputs": [],
   "source": [
    "# save to Dataframe, easy to save\n",
    "authors = pd.DataFrame(authors)"
   ]
  },
  {
   "cell_type": "code",
   "execution_count": 29,
   "metadata": {},
   "outputs": [],
   "source": [
    "#authors.to_csv('authors.csv', encoding = \"utf-8\")"
   ]
  }
 ],
 "metadata": {
  "kernelspec": {
   "display_name": "Python 3",
   "language": "python",
   "name": "python3"
  },
  "language_info": {
   "codemirror_mode": {
    "name": "ipython",
    "version": 3
   },
   "file_extension": ".py",
   "mimetype": "text/x-python",
   "name": "python",
   "nbconvert_exporter": "python",
   "pygments_lexer": "ipython3",
   "version": "3.7.1"
  }
 },
 "nbformat": 4,
 "nbformat_minor": 2
}
