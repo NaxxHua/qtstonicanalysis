{
 "cells": [
  {
   "cell_type": "code",
   "execution_count": 1,
   "metadata": {},
   "outputs": [],
   "source": [
    "import pandas as pd\n",
    "import numpy as np\n",
    "\n",
    "df = pd.read_csv('fixed-final-qts.csv',skiprows=[1],encoding='utf-8')\n",
    "df = df.rename(index=str, columns={'Column2':'author', 'Column3':'paragraph', 'Column4':'strains', 'Column5':'title', \n",
    "                              'Column6':'typeC', 'Column7':'countC','Column8':'fs', 'Column9':'ss', 'Column10':'ts', \n",
    "                              'Column11':'f4s', 'Column12':'f1p', 'Column13':'s1p','Column14':'f2p', \n",
    "                              'Column15':'s2p', 'Column16':'f3p', 'Column17':'s3p', 'Column18':'f4p', 'Column19':'s4p'})\n",
    "author = pd.read_csv('nnauthor.csv',encoding='utf-8')\n",
    "df = df.merge(author, how='left')\n",
    "df = df.drop(df.columns[0],axis = 1,)"
   ]
  },
  {
   "cell_type": "code",
   "execution_count": 2,
   "metadata": {},
   "outputs": [],
   "source": [
    "df['2'] = df['s1p'].str.strip().str[-1]\n",
    "df['3'] = df['f2p'].str.strip().str[-1]\n",
    "df['4'] = df['s2p'].str.strip().str[-1]\n",
    "df['5'] = df['f3p'].str.strip().str[-1]\n",
    "df['6'] = df['s3p'].str.strip().str[-1]\n",
    "df['7'] = df['f4p'].str.strip().str[-1]\n",
    "df['8'] = df['s4p'].str.strip().str[-1]"
   ]
  },
  {
   "cell_type": "code",
   "execution_count": 3,
   "metadata": {},
   "outputs": [
    {
     "data": {
      "text/html": [
       "<div>\n",
       "<style scoped>\n",
       "    .dataframe tbody tr th:only-of-type {\n",
       "        vertical-align: middle;\n",
       "    }\n",
       "\n",
       "    .dataframe tbody tr th {\n",
       "        vertical-align: top;\n",
       "    }\n",
       "\n",
       "    .dataframe thead th {\n",
       "        text-align: right;\n",
       "    }\n",
       "</style>\n",
       "<table border=\"1\" class=\"dataframe\">\n",
       "  <thead>\n",
       "    <tr style=\"text-align: right;\">\n",
       "      <th></th>\n",
       "      <th>author</th>\n",
       "      <th>paragraph</th>\n",
       "      <th>strains</th>\n",
       "      <th>title</th>\n",
       "      <th>typeC</th>\n",
       "      <th>countC</th>\n",
       "      <th>fs</th>\n",
       "      <th>ss</th>\n",
       "      <th>ts</th>\n",
       "      <th>f4s</th>\n",
       "      <th>...</th>\n",
       "      <th>f4p</th>\n",
       "      <th>s4p</th>\n",
       "      <th>time</th>\n",
       "      <th>2</th>\n",
       "      <th>3</th>\n",
       "      <th>4</th>\n",
       "      <th>5</th>\n",
       "      <th>6</th>\n",
       "      <th>7</th>\n",
       "      <th>8</th>\n",
       "    </tr>\n",
       "  </thead>\n",
       "  <tbody>\n",
       "    <tr>\n",
       "      <th>0</th>\n",
       "      <td>太宗皇帝</td>\n",
       "      <td>[秦川雄帝宅，函谷壯皇居。, 綺殿千尋起，離宮百雉餘。, 連甍遙接漢，飛觀迥凌虛。, 雲日隱...</td>\n",
       "      <td>平平平仄仄，平仄仄平平。, 仄仄平平仄，平平仄仄平。, 平平平仄仄，平仄仄平平。, 平仄仄平...</td>\n",
       "      <td>帝京篇十首 一</td>\n",
       "      <td>lvshi</td>\n",
       "      <td>wuyan</td>\n",
       "      <td>平平平仄仄 平仄仄平平</td>\n",
       "      <td>仄仄平平仄 平平仄仄平</td>\n",
       "      <td>平平平仄仄 平仄仄平平</td>\n",
       "      <td>平仄仄平仄 平平仄仄平</td>\n",
       "      <td>...</td>\n",
       "      <td>pzzpz</td>\n",
       "      <td>ppzzp</td>\n",
       "      <td>初唐</td>\n",
       "      <td>p</td>\n",
       "      <td>z</td>\n",
       "      <td>p</td>\n",
       "      <td>z</td>\n",
       "      <td>p</td>\n",
       "      <td>z</td>\n",
       "      <td>p</td>\n",
       "    </tr>\n",
       "    <tr>\n",
       "      <th>1</th>\n",
       "      <td>太宗皇帝</td>\n",
       "      <td>[巖廊罷機務，崇文聊駐輦。, 玉匣啓龍圖，金繩披鳳篆。, 韋編斷仍續，縹帙舒還卷。, 對此乃...</td>\n",
       "      <td>平平仄平仄，平平平仄仄。, 仄仄仄平平，平平平仄仄。, 平平仄平仄，仄仄平平仄。, 仄仄仄○...</td>\n",
       "      <td>帝京篇十首 二</td>\n",
       "      <td>lvshi</td>\n",
       "      <td>wuyan</td>\n",
       "      <td>平平仄平仄 平平平仄仄</td>\n",
       "      <td>仄仄仄平平 平平平仄仄</td>\n",
       "      <td>平平仄平仄 仄仄平平仄</td>\n",
       "      <td>仄仄仄○○ 平仄○○仄</td>\n",
       "      <td>...</td>\n",
       "      <td>zzz○○</td>\n",
       "      <td>pz○○z</td>\n",
       "      <td>初唐</td>\n",
       "      <td>z</td>\n",
       "      <td>p</td>\n",
       "      <td>z</td>\n",
       "      <td>z</td>\n",
       "      <td>z</td>\n",
       "      <td>○</td>\n",
       "      <td>z</td>\n",
       "    </tr>\n",
       "    <tr>\n",
       "      <th>2</th>\n",
       "      <td>太宗皇帝</td>\n",
       "      <td>[移步出詞林，停輿欣武宴。, 琱弓寫明月，駿馬疑流電。, 驚雁落虛弦，啼猿悲急箭。, 閱賞誠...</td>\n",
       "      <td>平仄仄平平，平平平仄仄。, 平平仄平仄，仄仄平平仄。, 平仄仄平平，平平平仄仄。, 仄仄平平...</td>\n",
       "      <td>帝京篇十首 三</td>\n",
       "      <td>lvshi</td>\n",
       "      <td>wuyan</td>\n",
       "      <td>平仄仄平平 平平平仄仄</td>\n",
       "      <td>平平仄平仄 仄仄平平仄</td>\n",
       "      <td>平仄仄平平 平平平仄仄</td>\n",
       "      <td>仄仄平平仄 平平仄仄仄</td>\n",
       "      <td>...</td>\n",
       "      <td>zzppz</td>\n",
       "      <td>ppzzz</td>\n",
       "      <td>初唐</td>\n",
       "      <td>z</td>\n",
       "      <td>z</td>\n",
       "      <td>z</td>\n",
       "      <td>p</td>\n",
       "      <td>z</td>\n",
       "      <td>z</td>\n",
       "      <td>z</td>\n",
       "    </tr>\n",
       "    <tr>\n",
       "      <th>3</th>\n",
       "      <td>太宗皇帝</td>\n",
       "      <td>[鳴笳臨樂館，眺聽歡芳節。, 急管韻朱絃，清歌凝白雪。, 彩鳳肅來儀，玄鶴紛成列。, 去茲鄭...</td>\n",
       "      <td>平平平仄仄，仄仄平平仄。, 仄仄仄平平，平平平仄仄。, 仄仄仄平平，平仄平平仄。, 仄平仄仄...</td>\n",
       "      <td>帝京篇十首 四</td>\n",
       "      <td>lvshi</td>\n",
       "      <td>wuyan</td>\n",
       "      <td>平平平仄仄 仄仄平平仄</td>\n",
       "      <td>仄仄仄平平 平平平仄仄</td>\n",
       "      <td>仄仄仄平平 平仄平平仄</td>\n",
       "      <td>仄平仄仄平 仄平平仄仄</td>\n",
       "      <td>...</td>\n",
       "      <td>zpzzp</td>\n",
       "      <td>zppzz</td>\n",
       "      <td>初唐</td>\n",
       "      <td>z</td>\n",
       "      <td>p</td>\n",
       "      <td>z</td>\n",
       "      <td>p</td>\n",
       "      <td>z</td>\n",
       "      <td>p</td>\n",
       "      <td>z</td>\n",
       "    </tr>\n",
       "    <tr>\n",
       "      <th>4</th>\n",
       "      <td>太宗皇帝</td>\n",
       "      <td>[芳辰追逸趣，禁苑信多奇。, 橋形通漢上，峰勢接雲危。, 煙霞交隱映，花鳥自參差。, 何如肆...</td>\n",
       "      <td>平平平仄仄，○仄仄平平。, 平平平仄仄，平仄仄平平。, 平平平仄仄，平仄仄○平。, 平○仄仄...</td>\n",
       "      <td>帝京篇十首 五</td>\n",
       "      <td>lvshi</td>\n",
       "      <td>wuyan</td>\n",
       "      <td>平平平仄仄 ○仄仄平平</td>\n",
       "      <td>平平平仄仄 平仄仄平平</td>\n",
       "      <td>平平平仄仄 平仄仄○平</td>\n",
       "      <td>平○仄仄仄 仄仄仄平平</td>\n",
       "      <td>...</td>\n",
       "      <td>p○zzz</td>\n",
       "      <td>zzzpp</td>\n",
       "      <td>初唐</td>\n",
       "      <td>p</td>\n",
       "      <td>z</td>\n",
       "      <td>p</td>\n",
       "      <td>z</td>\n",
       "      <td>p</td>\n",
       "      <td>z</td>\n",
       "      <td>p</td>\n",
       "    </tr>\n",
       "  </tbody>\n",
       "</table>\n",
       "<p>5 rows × 26 columns</p>\n",
       "</div>"
      ],
      "text/plain": [
       "  author                                          paragraph  \\\n",
       "0   太宗皇帝  [秦川雄帝宅，函谷壯皇居。, 綺殿千尋起，離宮百雉餘。, 連甍遙接漢，飛觀迥凌虛。, 雲日隱...   \n",
       "1   太宗皇帝  [巖廊罷機務，崇文聊駐輦。, 玉匣啓龍圖，金繩披鳳篆。, 韋編斷仍續，縹帙舒還卷。, 對此乃...   \n",
       "2   太宗皇帝  [移步出詞林，停輿欣武宴。, 琱弓寫明月，駿馬疑流電。, 驚雁落虛弦，啼猿悲急箭。, 閱賞誠...   \n",
       "3   太宗皇帝  [鳴笳臨樂館，眺聽歡芳節。, 急管韻朱絃，清歌凝白雪。, 彩鳳肅來儀，玄鶴紛成列。, 去茲鄭...   \n",
       "4   太宗皇帝  [芳辰追逸趣，禁苑信多奇。, 橋形通漢上，峰勢接雲危。, 煙霞交隱映，花鳥自參差。, 何如肆...   \n",
       "\n",
       "                                             strains    title  typeC countC  \\\n",
       "0  平平平仄仄，平仄仄平平。, 仄仄平平仄，平平仄仄平。, 平平平仄仄，平仄仄平平。, 平仄仄平...  帝京篇十首 一  lvshi  wuyan   \n",
       "1  平平仄平仄，平平平仄仄。, 仄仄仄平平，平平平仄仄。, 平平仄平仄，仄仄平平仄。, 仄仄仄○...  帝京篇十首 二  lvshi  wuyan   \n",
       "2  平仄仄平平，平平平仄仄。, 平平仄平仄，仄仄平平仄。, 平仄仄平平，平平平仄仄。, 仄仄平平...  帝京篇十首 三  lvshi  wuyan   \n",
       "3  平平平仄仄，仄仄平平仄。, 仄仄仄平平，平平平仄仄。, 仄仄仄平平，平仄平平仄。, 仄平仄仄...  帝京篇十首 四  lvshi  wuyan   \n",
       "4  平平平仄仄，○仄仄平平。, 平平平仄仄，平仄仄平平。, 平平平仄仄，平仄仄○平。, 平○仄仄...  帝京篇十首 五  lvshi  wuyan   \n",
       "\n",
       "            fs            ss            ts           f4s ...    f4p    s4p  \\\n",
       "0  平平平仄仄 平仄仄平平   仄仄平平仄 平平仄仄平   平平平仄仄 平仄仄平平   平仄仄平仄 平平仄仄平 ...  pzzpz  ppzzp   \n",
       "1  平平仄平仄 平平平仄仄   仄仄仄平平 平平平仄仄   平平仄平仄 仄仄平平仄   仄仄仄○○ 平仄○○仄 ...  zzz○○  pz○○z   \n",
       "2  平仄仄平平 平平平仄仄   平平仄平仄 仄仄平平仄   平仄仄平平 平平平仄仄   仄仄平平仄 平平仄仄仄 ...  zzppz  ppzzz   \n",
       "3  平平平仄仄 仄仄平平仄   仄仄仄平平 平平平仄仄   仄仄仄平平 平仄平平仄   仄平仄仄平 仄平平仄仄 ...  zpzzp  zppzz   \n",
       "4  平平平仄仄 ○仄仄平平   平平平仄仄 平仄仄平平   平平平仄仄 平仄仄○平   平○仄仄仄 仄仄仄平平 ...  p○zzz  zzzpp   \n",
       "\n",
       "  time  2  3  4  5  6  7  8  \n",
       "0   初唐  p  z  p  z  p  z  p  \n",
       "1   初唐  z  p  z  z  z  ○  z  \n",
       "2   初唐  z  z  z  p  z  z  z  \n",
       "3   初唐  z  p  z  p  z  p  z  \n",
       "4   初唐  p  z  p  z  p  z  p  \n",
       "\n",
       "[5 rows x 26 columns]"
      ]
     },
     "execution_count": 3,
     "metadata": {},
     "output_type": "execute_result"
    }
   ],
   "source": [
    "df.head()"
   ]
  },
  {
   "cell_type": "code",
   "execution_count": 4,
   "metadata": {},
   "outputs": [],
   "source": [
    "df = df.loc[df['2'] == 'p']\n",
    "df = df.loc[df['2'] != df['3']]\n",
    "df = df.loc[df['3'] != df['4']]"
   ]
  },
  {
   "cell_type": "code",
   "execution_count": 5,
   "metadata": {},
   "outputs": [],
   "source": [
    "df = df[df['f1p'].str.len() == 5]\n",
    "df = df[df['f2p'].str.len() == 5]\n",
    "df = df[df['f3p'].str.len() == 5]\n",
    "df = df[df['f4p'].str.len() == 5]\n",
    "df = df[df['s1p'].str.len() == 5]\n",
    "df = df[df['s2p'].str.len() == 5]\n",
    "df = df[df['s3p'].str.len() == 5]\n",
    "df = df[df['s4p'].str.len() == 5]"
   ]
  },
  {
   "cell_type": "code",
   "execution_count": 6,
   "metadata": {},
   "outputs": [],
   "source": [
    "df = df[(df[['f1p','f2p','f3p','f4p','s1p','s2p','s3p','s4p']] != 'pzppp').all(axis=1)]\n",
    "df = df[(df[['f1p','f2p','f3p','f4p','s1p','s2p','s3p','s4p']] != 'zpzzp').all(axis=1)]\n",
    "df = df[(df[['f1p','f2p','f3p','f4p','s1p','s2p','s3p','s4p']] != 'zzpzp').all(axis=1)]\n",
    "df = df[(df[['f1p','f2p','f3p','f4p','s1p','s2p','s3p','s4p']] != 'pzpzp').all(axis=1)]\n",
    "df = df[(df[['f1p','f2p','f3p','f4p','s1p','s2p','s3p','s4p']] != 'zzzzp').all(axis=1)]\n",
    "df = df[(df[['f1p','f2p','f3p','f4p','s1p','s2p','s3p','s4p']] != 'zpzpz').all(axis=1)]\n",
    "df = df[(df[['f1p','f2p','f3p','f4p','s1p','s2p','s3p','s4p']] != 'zzppp').all(axis=1)]\n",
    "df = df[(df[['f1p','f2p','f3p','f4p','s1p','s2p','s3p','s4p']] != 'ppzpp').all(axis=1)]\n",
    "df = df[(df[['f1p','f2p','f3p','f4p','s1p','s2p','s3p','s4p']] != 'zpppz').all(axis=1)]\n",
    "df = df[(df[['f1p','f2p','f3p','f4p','s1p','s2p','s3p','s4p']] != 'zpzpp').all(axis=1)]\n",
    "df = df[(df[['f1p','f2p','f3p','f4p','s1p','s2p','s3p','s4p']] != 'zpppp').all(axis=1)]\n",
    "df = df[(df[['f1p','f2p','f3p','f4p','s1p','s2p','s3p','s4p']] != 'ppppz').all(axis=1)]\n",
    "df = df[(df[['f1p','f2p','f3p','f4p','s1p','s2p','s3p','s4p']] != 'pzzzp').all(axis=1)]\n",
    "df = df[(df[['f1p','f2p','f3p','f4p','s1p','s2p','s3p','s4p']] != 'ppppp').all(axis=1)]"
   ]
  },
  {
   "cell_type": "code",
   "execution_count": 7,
   "metadata": {},
   "outputs": [],
   "source": [
    "df['#?'] = df['f1p'].str.count('\\？')\n",
    "df['#?1'] = df['f2p'].str.count('\\？')\n",
    "df['#?2'] = df['f3p'].str.count('\\？')\n",
    "df['#?3'] = df['f4p'].str.count('\\？')\n",
    "df['#?4'] = df['s1p'].str.count('\\？')\n",
    "df['#?5'] = df['s2p'].str.count('\\？')\n",
    "df['#?6'] = df['s3p'].str.count('\\？')\n",
    "df['#?7'] = df['s4p'].str.count('\\？')"
   ]
  },
  {
   "cell_type": "code",
   "execution_count": 8,
   "metadata": {},
   "outputs": [],
   "source": [
    "df = df[df['#?'] == 0]\n",
    "df = df[df['#?1'] == 0]\n",
    "df = df[df['#?2'] ==0]\n",
    "df = df[df['#?3'] == 0]\n",
    "df = df[df['#?4'] == 0]\n",
    "df = df[df['#?5'] == 0]\n",
    "df = df[df['#?6'] == 0]\n",
    "df = df[df['#?7'] == 0]"
   ]
  },
  {
   "cell_type": "code",
   "execution_count": 9,
   "metadata": {},
   "outputs": [],
   "source": [
    "df['#?'] = df['f1p'].str.count('○')\n",
    "df['#?1'] = df['f2p'].str.count('○')\n",
    "df['#?2'] = df['f3p'].str.count('○')\n",
    "df['#?3'] = df['f4p'].str.count('○')\n",
    "df['#?4'] = df['s1p'].str.count('○')\n",
    "df['#?5'] = df['s2p'].str.count('○')\n",
    "df['#?6'] = df['s3p'].str.count('○')\n",
    "df['#?7'] = df['s4p'].str.count('○')\n",
    "\n",
    "df = df[df['#?'] == 0]\n",
    "df = df[df['#?1'] == 0]\n",
    "df = df[df['#?2'] ==0]\n",
    "df = df[df['#?3'] == 0]\n",
    "df = df[df['#?4'] == 0]\n",
    "df = df[df['#?5'] == 0]\n",
    "df = df[df['#?6'] == 0]\n",
    "df = df[df['#?7'] == 0]"
   ]
  },
  {
   "cell_type": "code",
   "execution_count": 10,
   "metadata": {},
   "outputs": [],
   "source": [
    "df = df.drop(df.columns[19:],axis=1,)"
   ]
  },
  {
   "cell_type": "code",
   "execution_count": 11,
   "metadata": {},
   "outputs": [
    {
     "data": {
      "text/html": [
       "<div>\n",
       "<style scoped>\n",
       "    .dataframe tbody tr th:only-of-type {\n",
       "        vertical-align: middle;\n",
       "    }\n",
       "\n",
       "    .dataframe tbody tr th {\n",
       "        vertical-align: top;\n",
       "    }\n",
       "\n",
       "    .dataframe thead th {\n",
       "        text-align: right;\n",
       "    }\n",
       "</style>\n",
       "<table border=\"1\" class=\"dataframe\">\n",
       "  <thead>\n",
       "    <tr style=\"text-align: right;\">\n",
       "      <th></th>\n",
       "      <th>author</th>\n",
       "      <th>paragraph</th>\n",
       "      <th>strains</th>\n",
       "      <th>title</th>\n",
       "      <th>typeC</th>\n",
       "      <th>countC</th>\n",
       "      <th>fs</th>\n",
       "      <th>ss</th>\n",
       "      <th>ts</th>\n",
       "      <th>f4s</th>\n",
       "      <th>f1p</th>\n",
       "      <th>s1p</th>\n",
       "      <th>f2p</th>\n",
       "      <th>s2p</th>\n",
       "      <th>f3p</th>\n",
       "      <th>s3p</th>\n",
       "      <th>f4p</th>\n",
       "      <th>s4p</th>\n",
       "      <th>time</th>\n",
       "    </tr>\n",
       "  </thead>\n",
       "  <tbody>\n",
       "    <tr>\n",
       "      <th>0</th>\n",
       "      <td>太宗皇帝</td>\n",
       "      <td>[秦川雄帝宅，函谷壯皇居。, 綺殿千尋起，離宮百雉餘。, 連甍遙接漢，飛觀迥凌虛。, 雲日隱...</td>\n",
       "      <td>平平平仄仄，平仄仄平平。, 仄仄平平仄，平平仄仄平。, 平平平仄仄，平仄仄平平。, 平仄仄平...</td>\n",
       "      <td>帝京篇十首 一</td>\n",
       "      <td>lvshi</td>\n",
       "      <td>wuyan</td>\n",
       "      <td>平平平仄仄 平仄仄平平</td>\n",
       "      <td>仄仄平平仄 平平仄仄平</td>\n",
       "      <td>平平平仄仄 平仄仄平平</td>\n",
       "      <td>平仄仄平仄 平平仄仄平</td>\n",
       "      <td>pppzz</td>\n",
       "      <td>pzzpp</td>\n",
       "      <td>zzppz</td>\n",
       "      <td>ppzzp</td>\n",
       "      <td>pppzz</td>\n",
       "      <td>pzzpp</td>\n",
       "      <td>pzzpz</td>\n",
       "      <td>ppzzp</td>\n",
       "      <td>初唐</td>\n",
       "    </tr>\n",
       "    <tr>\n",
       "      <th>8</th>\n",
       "      <td>太宗皇帝</td>\n",
       "      <td>[建章歡賞夕，二八盡妖妍。, 羅綺昭陽殿，芬芳玳瑁筵。, 珮移星正動，扇掩月初圓。, 無勞上...</td>\n",
       "      <td>仄平平仄仄，仄仄仄平平。, 平仄平平仄，平平仄仄平。, 仄平平仄仄，仄仄仄平平。, 平仄仄平...</td>\n",
       "      <td>帝京篇十首 九</td>\n",
       "      <td>lvshi</td>\n",
       "      <td>wuyan</td>\n",
       "      <td>仄平平仄仄 仄仄仄平平</td>\n",
       "      <td>平仄平平仄 平平仄仄平</td>\n",
       "      <td>仄平平仄仄 仄仄仄平平</td>\n",
       "      <td>平仄仄平仄 仄仄仄平平</td>\n",
       "      <td>zppzz</td>\n",
       "      <td>zzzpp</td>\n",
       "      <td>pzppz</td>\n",
       "      <td>ppzzp</td>\n",
       "      <td>zppzz</td>\n",
       "      <td>zzzpp</td>\n",
       "      <td>pzzpz</td>\n",
       "      <td>zzzpp</td>\n",
       "      <td>初唐</td>\n",
       "    </tr>\n",
       "    <tr>\n",
       "      <th>9</th>\n",
       "      <td>太宗皇帝</td>\n",
       "      <td>[新豐停翠輦，譙邑駐鳴笳。, 園荒一徑斷，苔古半階斜。, 前池消舊水，昔樹發今花。, 一朝辭...</td>\n",
       "      <td>平平平仄仄，平仄仄平平。, 平平仄仄仄，平仄仄平平。, 平平平仄仄，仄仄仄平平。, 仄平平仄...</td>\n",
       "      <td>過舊宅二首 一</td>\n",
       "      <td>lvshi</td>\n",
       "      <td>wuyan</td>\n",
       "      <td>平平平仄仄 平仄仄平平</td>\n",
       "      <td>平平仄仄仄 平仄仄平平</td>\n",
       "      <td>平平平仄仄 仄仄仄平平</td>\n",
       "      <td>仄平平仄仄 仄仄仄平平</td>\n",
       "      <td>pppzz</td>\n",
       "      <td>pzzpp</td>\n",
       "      <td>ppzzz</td>\n",
       "      <td>pzzpp</td>\n",
       "      <td>pppzz</td>\n",
       "      <td>zzzpp</td>\n",
       "      <td>zppzz</td>\n",
       "      <td>zzzpp</td>\n",
       "      <td>初唐</td>\n",
       "    </tr>\n",
       "    <tr>\n",
       "      <th>10</th>\n",
       "      <td>太宗皇帝</td>\n",
       "      <td>[春蒐馳駿骨，總轡俯長河。, 霞處流縈錦，風前瀁卷羅。, 水花翻照樹，堤蘭倒插波。, 豈必汾...</td>\n",
       "      <td>平平平仄仄，仄仄仄平平。, 平仄平平仄，平平仄仄平。, 仄平平仄仄，平平仄仄平。, 仄仄平平...</td>\n",
       "      <td>臨洛水</td>\n",
       "      <td>lvshi</td>\n",
       "      <td>wuyan</td>\n",
       "      <td>平平平仄仄 仄仄仄平平</td>\n",
       "      <td>平仄平平仄 平平仄仄平</td>\n",
       "      <td>仄平平仄仄 平平仄仄平</td>\n",
       "      <td>仄仄平平仄 平平仄仄平</td>\n",
       "      <td>pppzz</td>\n",
       "      <td>zzzpp</td>\n",
       "      <td>pzppz</td>\n",
       "      <td>ppzzp</td>\n",
       "      <td>zppzz</td>\n",
       "      <td>ppzzp</td>\n",
       "      <td>zzppz</td>\n",
       "      <td>ppzzp</td>\n",
       "      <td>初唐</td>\n",
       "    </tr>\n",
       "    <tr>\n",
       "      <th>11</th>\n",
       "      <td>太宗皇帝</td>\n",
       "      <td>[重巒俯渭水，碧嶂插遙天。, 出紅扶嶺日，入翠貯巖煙。, 疊松朝若夜，複岫闕疑全。, 對此恬...</td>\n",
       "      <td>平平仄仄仄，仄仄仄平平。, 仄平平仄仄，仄仄仄平平。, 仄平平仄仄，仄仄仄平平。, 仄仄平平...</td>\n",
       "      <td>望終南山</td>\n",
       "      <td>lvshi</td>\n",
       "      <td>wuyan</td>\n",
       "      <td>平平仄仄仄 仄仄仄平平</td>\n",
       "      <td>仄平平仄仄 仄仄仄平平</td>\n",
       "      <td>仄平平仄仄 仄仄仄平平</td>\n",
       "      <td>仄仄平平仄 平平仄仄平</td>\n",
       "      <td>ppzzz</td>\n",
       "      <td>zzzpp</td>\n",
       "      <td>zppzz</td>\n",
       "      <td>zzzpp</td>\n",
       "      <td>zppzz</td>\n",
       "      <td>zzzpp</td>\n",
       "      <td>zzppz</td>\n",
       "      <td>ppzzp</td>\n",
       "      <td>初唐</td>\n",
       "    </tr>\n",
       "  </tbody>\n",
       "</table>\n",
       "</div>"
      ],
      "text/plain": [
       "   author                                          paragraph  \\\n",
       "0    太宗皇帝  [秦川雄帝宅，函谷壯皇居。, 綺殿千尋起，離宮百雉餘。, 連甍遙接漢，飛觀迥凌虛。, 雲日隱...   \n",
       "8    太宗皇帝  [建章歡賞夕，二八盡妖妍。, 羅綺昭陽殿，芬芳玳瑁筵。, 珮移星正動，扇掩月初圓。, 無勞上...   \n",
       "9    太宗皇帝  [新豐停翠輦，譙邑駐鳴笳。, 園荒一徑斷，苔古半階斜。, 前池消舊水，昔樹發今花。, 一朝辭...   \n",
       "10   太宗皇帝  [春蒐馳駿骨，總轡俯長河。, 霞處流縈錦，風前瀁卷羅。, 水花翻照樹，堤蘭倒插波。, 豈必汾...   \n",
       "11   太宗皇帝  [重巒俯渭水，碧嶂插遙天。, 出紅扶嶺日，入翠貯巖煙。, 疊松朝若夜，複岫闕疑全。, 對此恬...   \n",
       "\n",
       "                                              strains    title  typeC countC  \\\n",
       "0   平平平仄仄，平仄仄平平。, 仄仄平平仄，平平仄仄平。, 平平平仄仄，平仄仄平平。, 平仄仄平...  帝京篇十首 一  lvshi  wuyan   \n",
       "8   仄平平仄仄，仄仄仄平平。, 平仄平平仄，平平仄仄平。, 仄平平仄仄，仄仄仄平平。, 平仄仄平...  帝京篇十首 九  lvshi  wuyan   \n",
       "9   平平平仄仄，平仄仄平平。, 平平仄仄仄，平仄仄平平。, 平平平仄仄，仄仄仄平平。, 仄平平仄...  過舊宅二首 一  lvshi  wuyan   \n",
       "10  平平平仄仄，仄仄仄平平。, 平仄平平仄，平平仄仄平。, 仄平平仄仄，平平仄仄平。, 仄仄平平...      臨洛水  lvshi  wuyan   \n",
       "11  平平仄仄仄，仄仄仄平平。, 仄平平仄仄，仄仄仄平平。, 仄平平仄仄，仄仄仄平平。, 仄仄平平...     望終南山  lvshi  wuyan   \n",
       "\n",
       "             fs            ss            ts           f4s    f1p    s1p  \\\n",
       "0   平平平仄仄 平仄仄平平   仄仄平平仄 平平仄仄平   平平平仄仄 平仄仄平平   平仄仄平仄 平平仄仄平  pppzz  pzzpp   \n",
       "8   仄平平仄仄 仄仄仄平平   平仄平平仄 平平仄仄平   仄平平仄仄 仄仄仄平平   平仄仄平仄 仄仄仄平平  zppzz  zzzpp   \n",
       "9   平平平仄仄 平仄仄平平   平平仄仄仄 平仄仄平平   平平平仄仄 仄仄仄平平   仄平平仄仄 仄仄仄平平  pppzz  pzzpp   \n",
       "10  平平平仄仄 仄仄仄平平   平仄平平仄 平平仄仄平   仄平平仄仄 平平仄仄平   仄仄平平仄 平平仄仄平  pppzz  zzzpp   \n",
       "11  平平仄仄仄 仄仄仄平平   仄平平仄仄 仄仄仄平平   仄平平仄仄 仄仄仄平平   仄仄平平仄 平平仄仄平  ppzzz  zzzpp   \n",
       "\n",
       "      f2p    s2p    f3p    s3p    f4p    s4p time  \n",
       "0   zzppz  ppzzp  pppzz  pzzpp  pzzpz  ppzzp   初唐  \n",
       "8   pzppz  ppzzp  zppzz  zzzpp  pzzpz  zzzpp   初唐  \n",
       "9   ppzzz  pzzpp  pppzz  zzzpp  zppzz  zzzpp   初唐  \n",
       "10  pzppz  ppzzp  zppzz  ppzzp  zzppz  ppzzp   初唐  \n",
       "11  zppzz  zzzpp  zppzz  zzzpp  zzppz  ppzzp   初唐  "
      ]
     },
     "execution_count": 11,
     "metadata": {},
     "output_type": "execute_result"
    }
   ],
   "source": [
    "df.head()"
   ]
  },
  {
   "cell_type": "code",
   "execution_count": 12,
   "metadata": {},
   "outputs": [],
   "source": [
    "unknown = df.loc[df['time'] == \"未知\"]\n",
    "df1 = df.loc[df['time'] != \"未知\"]"
   ]
  },
  {
   "cell_type": "code",
   "execution_count": 13,
   "metadata": {},
   "outputs": [],
   "source": [
    "import xgboost\n",
    "from sklearn import model_selection\n",
    "from sklearn.metrics import accuracy_score\n",
    "from sklearn.preprocessing import LabelEncoder\n",
    "from sklearn.model_selection import train_test_split\n",
    "from sklearn.preprocessing import OneHotEncoder"
   ]
  },
  {
   "cell_type": "code",
   "execution_count": 14,
   "metadata": {},
   "outputs": [],
   "source": [
    "cols = ['f1p','s1p','f2p','s2p','f3p','s3p','f4p','s4p']\n",
    "X = df1[cols]\n",
    "Y = df1.time\n",
    "X = X.astype(str)"
   ]
  },
  {
   "cell_type": "code",
   "execution_count": 15,
   "metadata": {},
   "outputs": [
    {
     "name": "stderr",
     "output_type": "stream",
     "text": [
      "C:\\Users\\kando\\Anaconda3\\lib\\site-packages\\sklearn\\preprocessing\\_encoders.py:368: FutureWarning: The handling of integer data will change in version 0.22. Currently, the categories are determined based on the range [0, max(values)], while in the future they will be determined based on the unique values.\n",
      "If you want the future behaviour and silence this warning, you can specify \"categories='auto'\".\n",
      "In case you used a LabelEncoder before this OneHotEncoder to convert the categories to integers, then you can now use the OneHotEncoder directly.\n",
      "  warnings.warn(msg, FutureWarning)\n"
     ]
    },
    {
     "data": {
      "text/plain": [
       "(9780, 104)"
      ]
     },
     "execution_count": 15,
     "metadata": {},
     "output_type": "execute_result"
    }
   ],
   "source": [
    "le = LabelEncoder()\n",
    "\n",
    "\n",
    "# 2/3. FIT AND TRANSFORM\n",
    "# use df.apply() to apply le.fit_transform to all columns\n",
    "X_2 = X.apply(le.fit_transform)\n",
    "\n",
    "enc = OneHotEncoder()\n",
    "\n",
    "# 2. FIT\n",
    "enc.fit(X_2)\n",
    "\n",
    "# 3. Transform\n",
    "onehotlabels = enc.transform(X_2).toarray()\n",
    "onehotlabels.shape"
   ]
  },
  {
   "cell_type": "code",
   "execution_count": 16,
   "metadata": {},
   "outputs": [],
   "source": [
    "label_encoder = LabelEncoder()\n",
    "label_encoder = label_encoder.fit(Y)\n",
    "label_encoded_y = label_encoder.transform(Y)"
   ]
  },
  {
   "cell_type": "code",
   "execution_count": 17,
   "metadata": {},
   "outputs": [
    {
     "data": {
      "text/plain": [
       "XGBClassifier(base_score=0.5, booster='gbtree', colsample_bylevel=1,\n",
       "       colsample_bytree=1, gamma=0, learning_rate=0.1, max_delta_step=0,\n",
       "       max_depth=3, min_child_weight=1, missing=None, n_estimators=100,\n",
       "       n_jobs=1, nthread=None, objective='multi:softprob', random_state=0,\n",
       "       reg_alpha=0, reg_lambda=1, scale_pos_weight=1, seed=None,\n",
       "       silent=True, subsample=1)"
      ]
     },
     "execution_count": 17,
     "metadata": {},
     "output_type": "execute_result"
    }
   ],
   "source": [
    "X_train, X_test, y_train, y_test = train_test_split(onehotlabels, label_encoded_y, test_size=0.2, random_state=250)\n",
    "\n",
    "model = xgboost.XGBClassifier(objective = 'multi:softmax')\n",
    "\n",
    "\n",
    "model.fit(X_train,y_train)"
   ]
  },
  {
   "cell_type": "code",
   "execution_count": 18,
   "metadata": {},
   "outputs": [
    {
     "name": "stdout",
     "output_type": "stream",
     "text": [
      "Accuracy: 39.19% (0.46%)\n"
     ]
    }
   ],
   "source": [
    "xgbpred = model.predict(X_test)\n",
    "\n",
    "accuracy_score(y_test,xgbpred)\n",
    "\n",
    "from sklearn.model_selection import StratifiedKFold\n",
    "from sklearn.model_selection import cross_val_score, cross_val_predict\n",
    "\n",
    "# CV model\n",
    "model = xgboost.XGBClassifier()\n",
    "kfold = StratifiedKFold(n_splits=10, random_state=7)\n",
    "results = cross_val_score(model, onehotlabels, label_encoded_y, cv=kfold)\n",
    "print(\"Accuracy: %.2f%% (%.2f%%)\" % (results.mean()*100, results.std()*100))"
   ]
  },
  {
   "cell_type": "code",
   "execution_count": 19,
   "metadata": {},
   "outputs": [
    {
     "data": {
      "text/plain": [
       "晚唐     3803\n",
       "盛中唐    1852\n",
       "中晚唐    1518\n",
       "中唐     1371\n",
       "初唐      618\n",
       "盛唐      334\n",
       "初盛唐     284\n",
       "未知      114\n",
       "Name: time, dtype: int64"
      ]
     },
     "execution_count": 19,
     "metadata": {},
     "output_type": "execute_result"
    }
   ],
   "source": [
    "df.time.value_counts()"
   ]
  },
  {
   "cell_type": "code",
   "execution_count": 20,
   "metadata": {},
   "outputs": [],
   "source": [
    "nzt = df.loc[df.time == \"中唐\"].sample(n=284)\n",
    "nct = df.loc[df.time == \"初唐\"].sample(n=284)\n",
    "nwt = df.loc[df.time == \"晚唐\"].sample(n=284)\n",
    "nst = df.loc[df.time == \"盛唐\"].sample(n=284)\n",
    "nzwt = df.loc[df.time == \"中晚唐\"].sample(n=284)\n",
    "nszt = df.loc[df.time == \"盛中唐\"].sample(n=284)\n",
    "cst = df.loc[df.time == \"初盛唐\"]"
   ]
  },
  {
   "cell_type": "code",
   "execution_count": 21,
   "metadata": {},
   "outputs": [],
   "source": [
    "unsamp = pd.concat([nzt,cst])\n",
    "unsamp = pd.concat([unsamp,nct])\n",
    "unsamp = pd.concat([unsamp,nwt])\n",
    "unsamp = pd.concat([unsamp,nst])\n",
    "unsamp = pd.concat([unsamp,nzwt])\n",
    "unsamp = pd.concat([unsamp,nszt])"
   ]
  },
  {
   "cell_type": "code",
   "execution_count": 22,
   "metadata": {},
   "outputs": [],
   "source": [
    "unsampla = unsamp.drop(unsamp.columns[0:10],axis=1,)"
   ]
  },
  {
   "cell_type": "code",
   "execution_count": 27,
   "metadata": {},
   "outputs": [],
   "source": [
    "cols = ['f1p','s1p','f2p','s2p','f3p','s3p','f4p','s4p']\n",
    "X1 = unsampla[cols]\n",
    "Y1 = unsampla.time\n",
    "X1 = X1.astype(str)"
   ]
  },
  {
   "cell_type": "code",
   "execution_count": 28,
   "metadata": {
    "scrolled": true
   },
   "outputs": [
    {
     "name": "stderr",
     "output_type": "stream",
     "text": [
      "C:\\Users\\kando\\Anaconda3\\lib\\site-packages\\sklearn\\preprocessing\\_encoders.py:368: FutureWarning: The handling of integer data will change in version 0.22. Currently, the categories are determined based on the range [0, max(values)], while in the future they will be determined based on the unique values.\n",
      "If you want the future behaviour and silence this warning, you can specify \"categories='auto'\".\n",
      "In case you used a LabelEncoder before this OneHotEncoder to convert the categories to integers, then you can now use the OneHotEncoder directly.\n",
      "  warnings.warn(msg, FutureWarning)\n"
     ]
    },
    {
     "data": {
      "text/plain": [
       "(1988, 91)"
      ]
     },
     "execution_count": 28,
     "metadata": {},
     "output_type": "execute_result"
    }
   ],
   "source": [
    "le1 = LabelEncoder()\n",
    "\n",
    "\n",
    "# 2/3. FIT AND TRANSFORM\n",
    "# use df.apply() to apply le.fit_transform to all columns\n",
    "X_21 = X1.apply(le1.fit_transform)\n",
    "\n",
    "enc1 = OneHotEncoder()\n",
    "\n",
    "# 2. FIT\n",
    "enc1.fit(X_21)\n",
    "\n",
    "# 3. Transform\n",
    "onehotlabels1 = enc1.transform(X_21).toarray()\n",
    "onehotlabels1.shape"
   ]
  },
  {
   "cell_type": "code",
   "execution_count": 29,
   "metadata": {},
   "outputs": [],
   "source": [
    "label_encoder1 = LabelEncoder()\n",
    "label_encoder1 = label_encoder.fit(Y1)\n",
    "label_encoded_y1 = label_encoder1.transform(Y1)"
   ]
  },
  {
   "cell_type": "code",
   "execution_count": 41,
   "metadata": {},
   "outputs": [
    {
     "data": {
      "text/plain": [
       "XGBClassifier(base_score=0.5, booster='gbtree', colsample_bylevel=1,\n",
       "       colsample_bytree=1, gamma=0, learning_rate=0.1, max_delta_step=0,\n",
       "       max_depth=3, min_child_weight=1, missing=None, n_estimators=100,\n",
       "       n_jobs=1, nthread=None, objective='multi:softprob', random_state=0,\n",
       "       reg_alpha=0, reg_lambda=1, scale_pos_weight=1, seed=None,\n",
       "       silent=True, subsample=1)"
      ]
     },
     "execution_count": 41,
     "metadata": {},
     "output_type": "execute_result"
    }
   ],
   "source": [
    "X_train, X_test, y_train, y_test = train_test_split(onehotlabels1, label_encoded_y1, test_size=0.2, random_state=250)\n",
    "\n",
    "model1 = xgboost.XGBClassifier(objective = 'multi:softmax')\n",
    "model1.fit(X_train,y_train)"
   ]
  },
  {
   "cell_type": "code",
   "execution_count": 31,
   "metadata": {},
   "outputs": [],
   "source": [
    "label_encoder1 = LabelEncoder()\n",
    "label_encoder1 = label_encoder.fit(Y1)\n",
    "label_encoded_y1 = label_encoder.transform(Y1)"
   ]
  },
  {
   "cell_type": "code",
   "execution_count": 36,
   "metadata": {},
   "outputs": [
    {
     "data": {
      "text/plain": [
       "0.2185929648241206"
      ]
     },
     "execution_count": 36,
     "metadata": {},
     "output_type": "execute_result"
    }
   ],
   "source": [
    "xgbpred = model1.predict(X_test)\n",
    "\n",
    "accuracy_score(y_test,xgbpred)"
   ]
  },
  {
   "cell_type": "code",
   "execution_count": 37,
   "metadata": {},
   "outputs": [
    {
     "name": "stdout",
     "output_type": "stream",
     "text": [
      "Accuracy: 21.13% (3.28%)\n"
     ]
    }
   ],
   "source": [
    "from sklearn.model_selection import StratifiedKFold\n",
    "from sklearn.model_selection import cross_val_score, cross_val_predict\n",
    "\n",
    "# CV model\n",
    "model1 = xgboost.XGBClassifier()\n",
    "kfold = StratifiedKFold(n_splits=10, random_state=7)\n",
    "results = cross_val_score(model1, onehotlabels1, label_encoded_y1, cv=kfold)\n",
    "print(\"Accuracy: %.2f%% (%.2f%%)\" % (results.mean()*100, results.std()*100))"
   ]
  },
  {
   "cell_type": "code",
   "execution_count": 38,
   "metadata": {},
   "outputs": [],
   "source": [
    "import os\n",
    "os.environ[\"PATH\"] += os.pathsep + 'C:/Program Files (x86)/Graphviz2.38/bin/'"
   ]
  },
  {
   "cell_type": "code",
   "execution_count": 46,
   "metadata": {},
   "outputs": [
    {
     "data": {
      "image/png": "[encoded data removed]",
      "text/plain": [
       "<Figure size 14400x1440 with 1 Axes>"
      ]
     },
     "metadata": {
      "needs_background": "light"
     },
     "output_type": "display_data"
    }
   ],
   "source": [
    "from xgboost import plot_tree\n",
    "import matplotlib.pyplot as plt\n",
    "\n",
    "plot_tree(model1, num_trees=0)\n",
    "plt.rcParams['figure.figsize'] = [300, 20]\n",
    "plt.show()"
   ]
  },
  {
   "cell_type": "code",
   "execution_count": null,
   "metadata": {},
   "outputs": [],
   "source": []
  }
 ],
 "metadata": {
  "kernelspec": {
   "display_name": "Python 3",
   "language": "python",
   "name": "python3"
  },
  "language_info": {
   "codemirror_mode": {
    "name": "ipython",
    "version": 3
   },
   "file_extension": ".py",
   "mimetype": "text/x-python",
   "name": "python",
   "nbconvert_exporter": "python",
   "pygments_lexer": "ipython3",
   "version": "3.7.1"
  }
 },
 "nbformat": 4,
 "nbformat_minor": 2
}
